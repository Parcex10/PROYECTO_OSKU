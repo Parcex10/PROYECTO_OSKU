{
 "cells": [
  {
   "cell_type": "markdown",
   "metadata": {},
   "source": [
    "# Tracking de modelos con mlflow"
   ]
  },
  {
   "cell_type": "code",
   "execution_count": 32,
   "metadata": {},
   "outputs": [],
   "source": [
    "import mlflow.sklearn\n",
    "from mlflow import log_metric, log_param\n",
    "from mlflow.tracking import MlflowClient\n",
    "from sklearn.feature_extraction.text import TfidfVectorizer\n",
    "from sklearn.metrics import  root_mean_squared_error, accuracy_score\n",
    "from sklearn.feature_extraction import  DictVectorizer\n",
    "import os\n",
    "import pandas as pd\n",
    "import numpy as np\n",
    "import time\n",
    "from sklearn.model_selection import train_test_split\n",
    "import dagshub\n",
    "import mlflow\n",
    "import pickle\n",
    "from sklearn.linear_model import LogisticRegression\n",
    "from sklearn.tree import DecisionTreeClassifier\n",
    "from sklearn.ensemble import RandomForestClassifier\n",
    "from sklearn.svm import SVC\n",
    "import mlflow.data"
   ]
  },
  {
   "cell_type": "code",
   "execution_count": 33,
   "metadata": {},
   "outputs": [],
   "source": [
    "def read_dataframe(filename):\n",
    "\n",
    "    df = pd.read_csv(filename)\n",
    "\n",
    "    categorical = ['label', 'device']\n",
    "    df[categorical] = df[categorical].astype(str)\n",
    "\n",
    "    return df"
   ]
  },
  {
   "cell_type": "code",
   "execution_count": 34,
   "metadata": {},
   "outputs": [],
   "source": [
    "df = read_dataframe(\"../data/waze_dataset.csv\")"
   ]
  },
  {
   "cell_type": "code",
   "execution_count": 35,
   "metadata": {},
   "outputs": [],
   "source": [
    "df.dropna(inplace=True)  # Eliminar valores faltantes\n",
    "X = df[['sessions', 'drives', 'total_sessions']]  # Seleccionar características\n",
    "y = df['label'].apply(lambda x: 1 if x == 'retained' else 0)  # Convertir a variable binaria (1 para retenido, 0 para no retenido)"
   ]
  },
  {
   "cell_type": "code",
   "execution_count": 36,
   "metadata": {},
   "outputs": [
    {
     "data": {
      "text/html": [
       "<pre style=\"white-space:pre;overflow-x:auto;line-height:normal;font-family:Menlo,'DejaVu Sans Mono',consolas,'Courier New',monospace\">Initialized MLflow to track repo <span style=\"color: #008000; text-decoration-color: #008000\">\"Parcex10/PROYECTO_OSKU\"</span>\n",
       "</pre>\n"
      ],
      "text/plain": [
       "Initialized MLflow to track repo \u001b[32m\"Parcex10/PROYECTO_OSKU\"\u001b[0m\n"
      ]
     },
     "metadata": {},
     "output_type": "display_data"
    },
    {
     "data": {
      "text/html": [
       "<pre style=\"white-space:pre;overflow-x:auto;line-height:normal;font-family:Menlo,'DejaVu Sans Mono',consolas,'Courier New',monospace\">Repository Parcex10/PROYECTO_OSKU initialized!\n",
       "</pre>\n"
      ],
      "text/plain": [
       "Repository Parcex10/PROYECTO_OSKU initialized!\n"
      ]
     },
     "metadata": {},
     "output_type": "display_data"
    }
   ],
   "source": [
    "dagshub.init(repo_owner='Parcex10', repo_name='PROYECTO_OSKU', mlflow=True)"
   ]
  },
  {
   "cell_type": "code",
   "execution_count": 37,
   "metadata": {},
   "outputs": [
    {
     "name": "stdout",
     "output_type": "stream",
     "text": [
      "MLFLOW_TRACKING_URI: https://dagshub.com/colome8/PROYECTO_OSKU.mlflow\n"
     ]
    },
    {
     "name": "stderr",
     "output_type": "stream",
     "text": [
      "2024/11/25 02:17:38 INFO mlflow.tracking.fluent: Experiment with name 'model-experiment' does not exist. Creating a new experiment.\n"
     ]
    },
    {
     "data": {
      "text/plain": [
       "<Experiment: artifact_location='mlflow-artifacts:/cb8402797f8c4bb5a397fb2e0337559a', creation_time=1732522658508, experiment_id='0', last_update_time=1732522658508, lifecycle_stage='active', name='model-experiment', tags={}>"
      ]
     },
     "execution_count": 37,
     "metadata": {},
     "output_type": "execute_result"
    }
   ],
   "source": [
    "MLFLOW_TRACKING_URI = \"https://dagshub.com/colome8/PROYECTO_OSKU.mlflow\"\n",
    "print(\"MLFLOW_TRACKING_URI:\", MLFLOW_TRACKING_URI)\n",
    "mlflow.set_tracking_uri(MLFLOW_TRACKING_URI) \n",
    "mlflow.set_experiment(\"model-experiment\")"
   ]
  },
  {
   "cell_type": "code",
   "execution_count": 38,
   "metadata": {},
   "outputs": [],
   "source": [
    "# Datos de ejemplo\n",
    "X_train, X_test, y_train, y_test = train_test_split(X, y, test_size=0.3, random_state=42)"
   ]
  },
  {
   "cell_type": "code",
   "execution_count": 39,
   "metadata": {},
   "outputs": [],
   "source": [
    "models = [\n",
    "    \n",
    "    {\"model\": LogisticRegression,\n",
    "     \"params\": {},\n",
    "     },\n",
    "    \n",
    "    {\"model\": DecisionTreeClassifier,\n",
    "     \"params\": {},\n",
    "     },\n",
    "    \n",
    "    {\"model\": RandomForestClassifier,\n",
    "     \"params\": {}, \n",
    "     },\n",
    "\n",
    "    {\"model\": SVC,\n",
    "     \"params\": {\"probability\": True}\n",
    "    },\n",
    "\n",
    "]"
   ]
  },
  {
   "cell_type": "code",
   "execution_count": 40,
   "metadata": {},
   "outputs": [],
   "source": [
    "dv = DictVectorizer()"
   ]
  },
  {
   "cell_type": "code",
   "execution_count": 41,
   "metadata": {},
   "outputs": [
    {
     "name": "stderr",
     "output_type": "stream",
     "text": [
      "2024/11/25 02:17:49 WARNING mlflow.models.model: Model logged without a signature and input example. Please set `input_example` parameter when logging the model to auto infer the model signature.\n",
      "2024/11/25 02:17:52 INFO mlflow.tracking._tracking_service.client: 🏃 View run LogisticRegression at: https://dagshub.com/colome8/PROYECTO_OSKU.mlflow/#/experiments/0/runs/c5599441a2ad46ddbb6ae20de981154b.\n",
      "2024/11/25 02:17:52 INFO mlflow.tracking._tracking_service.client: 🧪 View experiment at: https://dagshub.com/colome8/PROYECTO_OSKU.mlflow/#/experiments/0.\n"
     ]
    },
    {
     "name": "stdout",
     "output_type": "stream",
     "text": [
      "Modelo registrado con precisión: 0.7897777777777778\n"
     ]
    },
    {
     "name": "stderr",
     "output_type": "stream",
     "text": [
      "2024/11/25 02:18:04 WARNING mlflow.models.model: Model logged without a signature and input example. Please set `input_example` parameter when logging the model to auto infer the model signature.\n",
      "2024/11/25 02:18:07 INFO mlflow.tracking._tracking_service.client: 🏃 View run DecisionTreeClassifier at: https://dagshub.com/colome8/PROYECTO_OSKU.mlflow/#/experiments/0/runs/a50c1163fe664e168df18277935a432f.\n",
      "2024/11/25 02:18:07 INFO mlflow.tracking._tracking_service.client: 🧪 View experiment at: https://dagshub.com/colome8/PROYECTO_OSKU.mlflow/#/experiments/0.\n"
     ]
    },
    {
     "name": "stdout",
     "output_type": "stream",
     "text": [
      "Modelo registrado con precisión: 0.6531111111111111\n"
     ]
    },
    {
     "name": "stderr",
     "output_type": "stream",
     "text": [
      "2024/11/25 02:18:22 WARNING mlflow.models.model: Model logged without a signature and input example. Please set `input_example` parameter when logging the model to auto infer the model signature.\n",
      "2024/11/25 02:19:04 INFO mlflow.tracking._tracking_service.client: 🏃 View run RandomForestClassifier at: https://dagshub.com/colome8/PROYECTO_OSKU.mlflow/#/experiments/0/runs/24421b5ad755405989c7ba967f85c856.\n"
     ]
    },
    {
     "name": "stdout",
     "output_type": "stream",
     "text": [
      "Modelo registrado con precisión: 0.7348888888888889\n"
     ]
    },
    {
     "name": "stderr",
     "output_type": "stream",
     "text": [
      "2024/11/25 02:19:04 INFO mlflow.tracking._tracking_service.client: 🧪 View experiment at: https://dagshub.com/colome8/PROYECTO_OSKU.mlflow/#/experiments/0.\n",
      "2024/11/25 02:19:52 WARNING mlflow.models.model: Model logged without a signature and input example. Please set `input_example` parameter when logging the model to auto infer the model signature.\n",
      "2024/11/25 02:19:55 INFO mlflow.tracking._tracking_service.client: 🏃 View run SVC at: https://dagshub.com/colome8/PROYECTO_OSKU.mlflow/#/experiments/0/runs/fb91d1ff47a941d0b13ffb0aa836eee8.\n",
      "2024/11/25 02:19:55 INFO mlflow.tracking._tracking_service.client: 🧪 View experiment at: https://dagshub.com/colome8/PROYECTO_OSKU.mlflow/#/experiments/0.\n"
     ]
    },
    {
     "name": "stdout",
     "output_type": "stream",
     "text": [
      "Modelo registrado con precisión: 0.7897777777777778\n"
     ]
    },
    {
     "name": "stderr",
     "output_type": "stream",
     "text": [
      "2024/11/25 02:19:55 INFO mlflow.tracking._tracking_service.client: 🏃 View run Nested Runs at: https://dagshub.com/colome8/PROYECTO_OSKU.mlflow/#/experiments/0/runs/41912d4889fd4f2a8b732db361d89376.\n",
      "2024/11/25 02:19:55 INFO mlflow.tracking._tracking_service.client: 🧪 View experiment at: https://dagshub.com/colome8/PROYECTO_OSKU.mlflow/#/experiments/0.\n"
     ]
    }
   ],
   "source": [
    "with mlflow.start_run(run_name=\"Nested Runs\"):\n",
    "    for model in models:\n",
    "        \n",
    "        model_class = model[\"model\"]\n",
    "        model_name = model_class.__name__\n",
    "        params = model[\"params\"]\n",
    "        \n",
    "        with mlflow.start_run(run_name=model_name,nested=True):\n",
    "            \n",
    "            for param, value in params.items():\n",
    "                log_param(param, value)\n",
    "\n",
    "            ml_model = model_class(**params)\n",
    "           \n",
    "            ml_model.fit(X_train, y_train)\n",
    "    \n",
    "            y_pred = ml_model.predict(X_test)\n",
    "            \n",
    "            rmse = root_mean_squared_error(y_test, y_pred)\n",
    "            accuracy = accuracy_score(y_test, y_pred)\n",
    "            mlflow.log_metric(\"rmse\", rmse)\n",
    "            mlflow.log_metric(\"accuracy\", accuracy)\n",
    "\n",
    "            # Verifica y crea el directorio 'models' si no existe\n",
    "            os.makedirs(\"models\", exist_ok=True)\n",
    "            \n",
    "            # !mkdir models\n",
    "            with open(\"models/preprocessor.b\", \"wb\") as f_out:\n",
    "                pickle.dump(dv, f_out)\n",
    "                \n",
    "            mlflow.log_artifact(\"models/preprocessor.b\", artifact_path=\"preprocessor\")\n",
    "\n",
    "            # Registrar el modelo\n",
    "            mlflow.sklearn.log_model(ml_model, model_name)\n",
    "\n",
    "            print(f\"Modelo registrado con precisión: {accuracy}\")"
   ]
  },
  {
   "cell_type": "code",
   "execution_count": 42,
   "metadata": {},
   "outputs": [],
   "source": [
    "mlflow.end_run()"
   ]
  },
  {
   "cell_type": "markdown",
   "metadata": {},
   "source": [
    "Hyperparameter tuning"
   ]
  },
  {
   "cell_type": "code",
   "execution_count": 43,
   "metadata": {},
   "outputs": [],
   "source": [
    "from sklearn.model_selection import RandomizedSearchCV\n",
    "\n",
    "# Modelos y parámetros\n",
    "models = [\n",
    "    {\n",
    "        \"model\": LogisticRegression,\n",
    "        \"params\": {\"C\": [0.1, 1.0, 10], \"solver\": [\"liblinear\", \"lbfgs\"]},\n",
    "    },\n",
    "    {\n",
    "        \"model\": DecisionTreeClassifier,\n",
    "        \"params\": {\"max_depth\": [3, 5, 10], \"min_samples_split\": [2, 5, 10]},\n",
    "    },\n",
    "    {\n",
    "        \"model\": RandomForestClassifier,\n",
    "        \"params\": {\"n_estimators\": [50, 100], \"max_depth\": [5, 10, None]},\n",
    "    },\n",
    "]"
   ]
  },
  {
   "cell_type": "code",
   "execution_count": 44,
   "metadata": {},
   "outputs": [
    {
     "name": "stderr",
     "output_type": "stream",
     "text": [
      "c:\\Users\\colom\\OneDrive - ITESO\\iteso\\5to semestre\\cienciadatos\\PROYECTO_OSKU\\venv\\Lib\\site-packages\\sklearn\\model_selection\\_search.py:320: UserWarning: The total space of parameters 6 is smaller than n_iter=9. Running 6 iterations. For exhaustive searches, use GridSearchCV.\n",
      "  warnings.warn(\n",
      "2024/11/25 02:20:24 WARNING mlflow.models.model: Model logged without a signature and input example. Please set `input_example` parameter when logging the model to auto infer the model signature.\n",
      "2024/11/25 02:20:26 INFO mlflow.tracking._tracking_service.client: 🏃 View run LogisticRegression at: https://dagshub.com/colome8/PROYECTO_OSKU.mlflow/#/experiments/0/runs/3b3d394e26674ee08bb550d1d8ae00f5.\n"
     ]
    },
    {
     "name": "stdout",
     "output_type": "stream",
     "text": [
      "Modelo 'LogisticRegression' registrado con precisión en prueba: 0.7898\n"
     ]
    },
    {
     "name": "stderr",
     "output_type": "stream",
     "text": [
      "2024/11/25 02:20:26 INFO mlflow.tracking._tracking_service.client: 🧪 View experiment at: https://dagshub.com/colome8/PROYECTO_OSKU.mlflow/#/experiments/0.\n",
      "2024/11/25 02:20:39 WARNING mlflow.models.model: Model logged without a signature and input example. Please set `input_example` parameter when logging the model to auto infer the model signature.\n"
     ]
    },
    {
     "name": "stdout",
     "output_type": "stream",
     "text": [
      "Modelo 'DecisionTreeClassifier' registrado con precisión en prueba: 0.7896\n"
     ]
    },
    {
     "name": "stderr",
     "output_type": "stream",
     "text": [
      "2024/11/25 02:20:42 INFO mlflow.tracking._tracking_service.client: 🏃 View run DecisionTreeClassifier at: https://dagshub.com/colome8/PROYECTO_OSKU.mlflow/#/experiments/0/runs/a11ec8070c2440af9fe3be70d313c757.\n",
      "2024/11/25 02:20:42 INFO mlflow.tracking._tracking_service.client: 🧪 View experiment at: https://dagshub.com/colome8/PROYECTO_OSKU.mlflow/#/experiments/0.\n",
      "c:\\Users\\colom\\OneDrive - ITESO\\iteso\\5to semestre\\cienciadatos\\PROYECTO_OSKU\\venv\\Lib\\site-packages\\sklearn\\model_selection\\_search.py:320: UserWarning: The total space of parameters 6 is smaller than n_iter=9. Running 6 iterations. For exhaustive searches, use GridSearchCV.\n",
      "  warnings.warn(\n",
      "2024/11/25 02:20:57 WARNING mlflow.models.model: Model logged without a signature and input example. Please set `input_example` parameter when logging the model to auto infer the model signature.\n",
      "2024/11/25 02:21:00 INFO mlflow.tracking._tracking_service.client: 🏃 View run RandomForestClassifier at: https://dagshub.com/colome8/PROYECTO_OSKU.mlflow/#/experiments/0/runs/1736b91b81ea4bceb099784f39677b89.\n"
     ]
    },
    {
     "name": "stdout",
     "output_type": "stream",
     "text": [
      "Modelo 'RandomForestClassifier' registrado con precisión en prueba: 0.7898\n"
     ]
    },
    {
     "name": "stderr",
     "output_type": "stream",
     "text": [
      "2024/11/25 02:21:00 INFO mlflow.tracking._tracking_service.client: 🧪 View experiment at: https://dagshub.com/colome8/PROYECTO_OSKU.mlflow/#/experiments/0.\n",
      "2024/11/25 02:21:01 INFO mlflow.tracking._tracking_service.client: 🏃 View run Hyperparameter Tuning at: https://dagshub.com/colome8/PROYECTO_OSKU.mlflow/#/experiments/0/runs/eb68a2595c764120887863dbbdc30584.\n",
      "2024/11/25 02:21:01 INFO mlflow.tracking._tracking_service.client: 🧪 View experiment at: https://dagshub.com/colome8/PROYECTO_OSKU.mlflow/#/experiments/0.\n"
     ]
    }
   ],
   "source": [
    "# Ejecutar runs anidados\n",
    "with mlflow.start_run(run_name=\"Hyperparameter Tuning\"):\n",
    "    for model in models:\n",
    "        model_class = model[\"model\"]\n",
    "        model_name = model_class.__name__\n",
    "        param_grid = model[\"params\"]\n",
    "\n",
    "        with mlflow.start_run(run_name=model_name, nested=True):\n",
    "            # Loguear el modelo y su grid de hiperparámetros\n",
    "            mlflow.log_param(\"param_grid\", param_grid)\n",
    "\n",
    "            # Configurar Randomized search\n",
    "            randomized_search = RandomizedSearchCV(\n",
    "            estimator=model_class(),\n",
    "            param_distributions=param_grid,\n",
    "            n_iter=9,  \n",
    "            scoring=\"accuracy\",\n",
    "            cv=2,\n",
    "            n_jobs=-1\n",
    "            )\n",
    "\n",
    "\n",
    "            # Ajustar modelo\n",
    "            start_time = time.time()\n",
    "\n",
    "            randomized_search.fit(X_train, y_train)\n",
    "            duration = time.time() - start_time\n",
    "\n",
    "            # Mejor modelo y resultados\n",
    "            best_model = randomized_search.best_estimator_\n",
    "            best_params = randomized_search.best_params_\n",
    "            best_score = randomized_search.best_score_\n",
    "\n",
    "            # Predicciones en conjunto de prueba\n",
    "            y_pred = best_model.predict(X_test)\n",
    "            rmse = root_mean_squared_error(y_test, y_pred)\n",
    "            accuracy = accuracy_score(y_test, y_pred)\n",
    "\n",
    "            # Loguear métricas y parámetros\n",
    "            mlflow.log_param(\"best_params\", best_params)\n",
    "            mlflow.log_metric(\"cv_accuracy\", best_score)\n",
    "            mlflow.log_metric(\"rmse\", rmse)\n",
    "            mlflow.log_metric(\"accuracy\", accuracy)\n",
    "            mlflow.log_metric(\"tuning_duration\", duration)\n",
    "\n",
    "            # Guardar el preprocesador\n",
    "            os.makedirs(\"models\", exist_ok=True)\n",
    "            with open(\"models/preprocessor.b\", \"wb\") as f_out:\n",
    "                pickle.dump(dv, f_out)\n",
    "\n",
    "            mlflow.log_artifact(\"models/preprocessor.b\", artifact_path=\"preprocessor\")\n",
    "\n",
    "            # Registrar el mejor modelo\n",
    "            mlflow.sklearn.log_model(best_model, model_name)\n",
    "\n",
    "            print(f\"Modelo '{model_name}' registrado con precisión en prueba: {accuracy:.4f}\")\n"
   ]
  },
  {
   "cell_type": "markdown",
   "metadata": {},
   "source": [
    "Champion y Challenger"
   ]
  },
  {
   "cell_type": "code",
   "execution_count": 45,
   "metadata": {},
   "outputs": [],
   "source": [
    "# Nombre del experimento\n",
    "experiment_name = \"model-experiment\"  # Ajusta el nombre si es diferente\n",
    "client = MlflowClient()\n",
    "\n",
    "# Obtener el ID del experimento\n",
    "experiment_id = client.get_experiment_by_name(experiment_name).experiment_id\n",
    "\n",
    "# Buscar y ordenar las runs por accuracy\n",
    "runs = client.search_runs(\n",
    "    experiment_ids=[experiment_id],\n",
    "    filter_string=\"\",\n",
    "    order_by=[\"metrics.accuracy DESC\"],  # Ordenar por mayor accuracy\n",
    "    max_results=10  # Opcional: limitar el número de runs\n",
    ")"
   ]
  },
  {
   "cell_type": "markdown",
   "metadata": {},
   "source": [
    "Registrar modelo"
   ]
  },
  {
   "cell_type": "code",
   "execution_count": 46,
   "metadata": {},
   "outputs": [
    {
     "name": "stderr",
     "output_type": "stream",
     "text": [
      "2024/11/25 02:21:02 INFO mlflow.store.model_registry.abstract_store: Waiting up to 300 seconds for model version to finish creation. Model name: model-experiment, version 1\n"
     ]
    },
    {
     "name": "stdout",
     "output_type": "stream",
     "text": [
      "Registro de modelos 'model-experiment' creado.\n"
     ]
    },
    {
     "name": "stderr",
     "output_type": "stream",
     "text": [
      "2024/11/25 02:21:02 INFO mlflow.store.model_registry.abstract_store: Waiting up to 300 seconds for model version to finish creation. Model name: model-experiment, version 2\n",
      "C:\\Users\\colom\\AppData\\Local\\Temp\\ipykernel_13076\\2520053724.py:32: FutureWarning: ``mlflow.tracking.client.MlflowClient.transition_model_version_stage`` is deprecated since 2.9.0. Model registry stages will be removed in a future major release. To learn more about the deprecation of model registry stages, see our migration guide here: https://mlflow.org/docs/latest/model-registry.html#migrating-from-stages\n",
      "  client.transition_model_version_stage(\n",
      "C:\\Users\\colom\\AppData\\Local\\Temp\\ipykernel_13076\\2520053724.py:40: FutureWarning: ``mlflow.tracking.client.MlflowClient.transition_model_version_stage`` is deprecated since 2.9.0. Model registry stages will be removed in a future major release. To learn more about the deprecation of model registry stages, see our migration guide here: https://mlflow.org/docs/latest/model-registry.html#migrating-from-stages\n",
      "  client.transition_model_version_stage(\n"
     ]
    },
    {
     "name": "stdout",
     "output_type": "stream",
     "text": [
      "Champion: Run ID 1736b91b81ea4bceb099784f39677b89, Accuracy: 0.7897777777777778\n",
      "Challenger: Run ID 3b3d394e26674ee08bb550d1d8ae00f5, Accuracy: 0.7897777777777778\n"
     ]
    }
   ],
   "source": [
    "# Registrar el experimento en el Model Registry\n",
    "model_registry_name = \"model-experiment\"\n",
    "\n",
    "try:\n",
    "    client.get_registered_model(model_registry_name)\n",
    "    print(f\"El registro de modelos '{model_registry_name}' ya existe.\")\n",
    "except:\n",
    "    client.create_registered_model(model_registry_name)\n",
    "    print(f\"Registro de modelos '{model_registry_name}' creado.\")\n",
    "\n",
    "\n",
    "# Asignar Champion y Challenger\n",
    "if len(runs) >= 2:\n",
    "    # Run con mayor accuracy\n",
    "    best_run = runs[0]\n",
    "    second_best_run = runs[1]\n",
    "\n",
    "    # Registrar modelos\n",
    "    best_model_version = client.create_model_version(\n",
    "        name=model_registry_name,\n",
    "        source=f\"runs:/{best_run.info.run_id}/model\",  # Ruta del modelo en la run\n",
    "        run_id=best_run.info.run_id\n",
    "    )\n",
    "\n",
    "    second_best_model_version = client.create_model_version(\n",
    "        name=model_registry_name,\n",
    "        source=f\"runs:/{second_best_run.info.run_id}/model\",\n",
    "        run_id=second_best_run.info.run_id\n",
    "    )\n",
    "\n",
    "    # Asignar Champion\n",
    "    client.transition_model_version_stage(\n",
    "        name=model_registry_name,\n",
    "        version=best_model_version.version,\n",
    "        stage=\"Production\"\n",
    "    )\n",
    "    client.set_registered_model_alias(model_registry_name, \"Champion\", best_model_version.version)\n",
    "\n",
    "    # Asignar Challenger\n",
    "    client.transition_model_version_stage(\n",
    "        name=model_registry_name,\n",
    "        version=second_best_model_version.version,\n",
    "        stage=\"Staging\"\n",
    "    )\n",
    "    client.set_registered_model_alias(model_registry_name, \"Challenger\", second_best_model_version.version)\n",
    "\n",
    "    print(f\"Champion: Run ID {best_run.info.run_id}, Accuracy: {best_run.data.metrics['accuracy']}\")\n",
    "    print(f\"Challenger: Run ID {second_best_run.info.run_id}, Accuracy: {second_best_run.data.metrics['accuracy']}\")\n",
    "else:\n",
    "    print(\"No hay suficientes runs para asignar Champion y Challenger.\")\n",
    "\n"
   ]
  }
 ],
 "metadata": {
  "kernelspec": {
   "display_name": "venv",
   "language": "python",
   "name": "python3"
  },
  "language_info": {
   "codemirror_mode": {
    "name": "ipython",
    "version": 3
   },
   "file_extension": ".py",
   "mimetype": "text/x-python",
   "name": "python",
   "nbconvert_exporter": "python",
   "pygments_lexer": "ipython3",
   "version": "3.11.8"
  }
 },
 "nbformat": 4,
 "nbformat_minor": 2
}
