{
 "cells": [
  {
   "cell_type": "code",
   "execution_count": 1,
   "metadata": {},
   "outputs": [],
   "source": [
    "import pickle\n",
    "import pandas as pd\n",
    "from sklearn.metrics import  root_mean_squared_error\n",
    "from sklearn.feature_extraction import  DictVectorizer\n",
    "import os\n",
    "import pandas as pd\n",
    "from sklearn.model_selection import train_test_split\n",
    "from sklearn.metrics import accuracy_score, confusion_matrix, classification_report\n",
    "import dagshub\n",
    "from dagshub import DAGsHubLogger\n",
    "import mlflow\n",
    "import pickle"
   ]
  },
  {
   "cell_type": "code",
   "execution_count": 2,
   "metadata": {},
   "outputs": [],
   "source": [
    "def read_dataframe(filename):\n",
    "\n",
    "    df = pd.read_csv(filename)\n",
    "\n",
    "    categorical = ['label', 'device']\n",
    "    df[categorical] = df[categorical].astype(str)\n",
    "\n",
    "    return df"
   ]
  },
  {
   "cell_type": "code",
   "execution_count": 3,
   "metadata": {},
   "outputs": [],
   "source": [
    "df = read_dataframe(\"../data/waze_dataset.csv\")"
   ]
  },
  {
   "cell_type": "code",
   "execution_count": 4,
   "metadata": {},
   "outputs": [],
   "source": [
    "df.dropna(inplace=True)  # Eliminar valores faltantes\n",
    "X = df[['sessions', 'drives', 'total_sessions']]  # Seleccionar características\n",
    "y = df['label'].apply(lambda x: 1 if x == 'retained' else 0)  # Convertir a variable binaria (1 para retenido, 0 para no retenido)"
   ]
  },
  {
   "cell_type": "code",
   "execution_count": 5,
   "metadata": {},
   "outputs": [],
   "source": [
    "# Dividir los datos en conjuntos de entrenamiento y prueba\n",
    "X_train, X_test, y_train, y_test = train_test_split(X, y, test_size=0.3, random_state=42)"
   ]
  },
  {
   "cell_type": "code",
   "execution_count": 6,
   "metadata": {},
   "outputs": [],
   "source": [
    "target = 'duration'"
   ]
  },
  {
   "cell_type": "markdown",
   "metadata": {},
   "source": [
    "Definir los `dataset` como objetos de `mlflow` para poderlos trackear"
   ]
  },
  {
   "cell_type": "code",
   "execution_count": 7,
   "metadata": {},
   "outputs": [],
   "source": [
    "from sklearn.linear_model import LogisticRegression\n",
    "from sklearn.tree import DecisionTreeClassifier\n",
    "from sklearn.ensemble import RandomForestClassifier\n",
    "from sklearn.svm import SVC"
   ]
  },
  {
   "cell_type": "code",
   "execution_count": 8,
   "metadata": {},
   "outputs": [],
   "source": [
    "import mlflow.data\n",
    "\n",
    "# Convertir X_train y X_test a NumPy arrays\n",
    "X_train_array = X_train.values\n",
    "X_test_array = X_test.values\n",
    "\n",
    "# Convertir y_train y y_test a NumPy arrays y aplanar\n",
    "y_train_array = y_train.to_numpy().ravel()\n",
    "y_test_array = y_test.to_numpy().ravel()"
   ]
  },
  {
   "cell_type": "markdown",
   "metadata": {},
   "source": [
    "Definir el `tracking URI` y el nombre del experimento"
   ]
  },
  {
   "cell_type": "code",
   "execution_count": 9,
   "metadata": {},
   "outputs": [
    {
     "data": {
      "text/html": [
       "<pre style=\"white-space:pre;overflow-x:auto;line-height:normal;font-family:Menlo,'DejaVu Sans Mono',consolas,'Courier New',monospace\">Accessing as colome8\n",
       "</pre>\n"
      ],
      "text/plain": [
       "Accessing as colome8\n"
      ]
     },
     "metadata": {},
     "output_type": "display_data"
    },
    {
     "data": {
      "text/html": [
       "<pre style=\"white-space:pre;overflow-x:auto;line-height:normal;font-family:Menlo,'DejaVu Sans Mono',consolas,'Courier New',monospace\">Initialized MLflow to track repo <span style=\"color: #008000; text-decoration-color: #008000\">\"Parcex10/PROYECTO_OSKU\"</span>\n",
       "</pre>\n"
      ],
      "text/plain": [
       "Initialized MLflow to track repo \u001b[32m\"Parcex10/PROYECTO_OSKU\"\u001b[0m\n"
      ]
     },
     "metadata": {},
     "output_type": "display_data"
    },
    {
     "data": {
      "text/html": [
       "<pre style=\"white-space:pre;overflow-x:auto;line-height:normal;font-family:Menlo,'DejaVu Sans Mono',consolas,'Courier New',monospace\">Repository Parcex10/PROYECTO_OSKU initialized!\n",
       "</pre>\n"
      ],
      "text/plain": [
       "Repository Parcex10/PROYECTO_OSKU initialized!\n"
      ]
     },
     "metadata": {},
     "output_type": "display_data"
    },
    {
     "name": "stdout",
     "output_type": "stream",
     "text": [
      "MLFLOW_TRACKING_URI: https://dagshub.com/Parcex10/PROYECTO_OSKU.mlflow\n"
     ]
    },
    {
     "data": {
      "text/plain": [
       "<Experiment: artifact_location='mlflow-artifacts:/57bd1ce7c19a48e0a7d07f64f62db70c', creation_time=1730432745321, experiment_id='0', last_update_time=1730432745321, lifecycle_stage='active', name='model_experiment', tags={}>"
      ]
     },
     "execution_count": 9,
     "metadata": {},
     "output_type": "execute_result"
    }
   ],
   "source": [
    "import mlflow\n",
    "\n",
    "dagshub.init(repo_owner='Parcex10', repo_name='PROYECTO_OSKU', mlflow=True)\n",
    "\n",
    "MLFLOW_TRACKING_URI = mlflow.get_tracking_uri()\n",
    "print(\"MLFLOW_TRACKING_URI:\", MLFLOW_TRACKING_URI)\n",
    "\n",
    "mlflow.set_tracking_uri(MLFLOW_TRACKING_URI)\n",
    "mlflow.set_experiment(experiment_name=\"model_experiment\")"
   ]
  },
  {
   "cell_type": "code",
   "execution_count": 10,
   "metadata": {},
   "outputs": [
    {
     "data": {
      "text/html": [
       "<pre style=\"white-space:pre;overflow-x:auto;line-height:normal;font-family:Menlo,'DejaVu Sans Mono',consolas,'Courier New',monospace\">Client created. Use the name of the repo <span style=\"font-weight: bold\">(</span>PROYECTO_OSKU<span style=\"font-weight: bold\">)</span> as the name of the bucket\n",
       "</pre>\n"
      ],
      "text/plain": [
       "Client created. Use the name of the repo \u001b[1m(\u001b[0mPROYECTO_OSKU\u001b[1m)\u001b[0m as the name of the bucket\n"
      ]
     },
     "metadata": {},
     "output_type": "display_data"
    }
   ],
   "source": [
    "from dagshub import get_repo_bucket_client\n",
    "# Get a boto3.client object\n",
    "s3 = get_repo_bucket_client(\"Parcex10/PROYECTO_OSKU\")\n",
    "\n",
    "# Upload file\n",
    "s3.upload_file(\n",
    "    Bucket=\"PROYECTO_OSKU\",  # name of the repo\n",
    "    Filename=\"../data/waze_dataset.csv\",  # local path of file to upload\n",
    "    Key=\"waze_dataset.csv\",  # remote path where to upload the file\n",
    ")"
   ]
  },
  {
   "cell_type": "code",
   "execution_count": 11,
   "metadata": {},
   "outputs": [],
   "source": [
    "mlflow.sklearn.autolog()"
   ]
  },
  {
   "cell_type": "code",
   "execution_count": 12,
   "metadata": {},
   "outputs": [],
   "source": [
    "# Crear datasets para MLflow\n",
    "training_dataset = mlflow.data.from_numpy(X_train_array, targets=y_train_array, name=\"train_waze_dataset\")\n",
    "validation_dataset = mlflow.data.from_numpy(X_test_array, targets=y_test_array, name=\"test_waze_dataset\")"
   ]
  },
  {
   "cell_type": "markdown",
   "metadata": {},
   "source": [
    "#### Nested Runs\n",
    "\n",
    "Vamos a ver como podemos encadenar ejecuciones, para ello vamos a definir varios modelos a entrenar:"
   ]
  },
  {
   "cell_type": "code",
   "execution_count": 13,
   "metadata": {},
   "outputs": [],
   "source": [
    "models = [\n",
    "    \n",
    "    {\"model\": LogisticRegression,\n",
    "     \"params\": {},\n",
    "     },\n",
    "    \n",
    "    {\"model\": DecisionTreeClassifier,\n",
    "     \"params\": {},\n",
    "     },\n",
    "    \n",
    "    {\"model\": RandomForestClassifier,\n",
    "     \"params\": {}, \n",
    "     },\n",
    "\n",
    "    {\"model\": SVC,\n",
    "     \"params\": {\"probability\": True}\n",
    "    },\n",
    "\n",
    "]"
   ]
  },
  {
   "cell_type": "code",
   "execution_count": 14,
   "metadata": {},
   "outputs": [],
   "source": [
    "dv = DictVectorizer()"
   ]
  },
  {
   "cell_type": "code",
   "execution_count": 15,
   "metadata": {},
   "outputs": [
    {
     "name": "stderr",
     "output_type": "stream",
     "text": [
      "2024/11/07 16:43:55 WARNING mlflow.utils.autologging_utils: MLflow autologging encountered a warning: \"c:\\Users\\colom\\OneDrive - ITESO\\iteso\\5to semestre\\cienciadatos\\PROYECTO_OSKU\\venv\\Lib\\site-packages\\mlflow\\types\\utils.py:407: UserWarning: Hint: Inferred schema contains integer column(s). Integer columns in Python cannot represent missing values. If your input data contains missing values at inference time, it will be encoded as floats and will cause a schema enforcement error. The best way to avoid this problem is to infer the model schema based on a realistic data sample (training dataset) that includes missing values. Alternatively, you can declare integer columns as doubles (float64) whenever these columns may have missing values. See `Handling Integers With Missing Values <https://www.mlflow.org/docs/latest/models.html#handling-integers-with-missing-values>`_ for more details.\"\n",
      "c:\\Users\\colom\\OneDrive - ITESO\\iteso\\5to semestre\\cienciadatos\\PROYECTO_OSKU\\venv\\Lib\\site-packages\\sklearn\\metrics\\_classification.py:1531: UndefinedMetricWarning: Precision is ill-defined and being set to 0.0 in labels with no predicted samples. Use `zero_division` parameter to control this behavior.\n",
      "  _warn_prf(average, modifier, f\"{metric.capitalize()} is\", len(result))\n",
      "2024/11/07 16:43:59 WARNING mlflow.utils.autologging_utils: MLflow autologging encountered a warning: \"c:\\Users\\colom\\OneDrive - ITESO\\iteso\\5to semestre\\cienciadatos\\PROYECTO_OSKU\\venv\\Lib\\site-packages\\mlflow\\types\\utils.py:407: UserWarning: Hint: Inferred schema contains integer column(s). Integer columns in Python cannot represent missing values. If your input data contains missing values at inference time, it will be encoded as floats and will cause a schema enforcement error. The best way to avoid this problem is to infer the model schema based on a realistic data sample (training dataset) that includes missing values. Alternatively, you can declare integer columns as doubles (float64) whenever these columns may have missing values. See `Handling Integers With Missing Values <https://www.mlflow.org/docs/latest/models.html#handling-integers-with-missing-values>`_ for more details.\"\n",
      "2024/11/07 16:44:09 WARNING mlflow.utils.autologging_utils: MLflow autologging encountered a warning: \"c:\\Users\\colom\\OneDrive - ITESO\\iteso\\5to semestre\\cienciadatos\\PROYECTO_OSKU\\venv\\Lib\\site-packages\\mlflow\\types\\utils.py:407: UserWarning: Hint: Inferred schema contains integer column(s). Integer columns in Python cannot represent missing values. If your input data contains missing values at inference time, it will be encoded as floats and will cause a schema enforcement error. The best way to avoid this problem is to infer the model schema based on a realistic data sample (training dataset) that includes missing values. Alternatively, you can declare integer columns as doubles (float64) whenever these columns may have missing values. See `Handling Integers With Missing Values <https://www.mlflow.org/docs/latest/models.html#handling-integers-with-missing-values>`_ for more details.\"\n",
      "2024/11/07 16:44:10 INFO mlflow.tracking._tracking_service.client: 🏃 View run LogisticRegression at: https://dagshub.com/Parcex10/PROYECTO_OSKU.mlflow/#/experiments/0/runs/75a39eb80b6f4173a39a2a7180e31b6d.\n",
      "2024/11/07 16:44:10 INFO mlflow.tracking._tracking_service.client: 🧪 View experiment at: https://dagshub.com/Parcex10/PROYECTO_OSKU.mlflow/#/experiments/0.\n",
      "2024/11/07 16:44:11 WARNING mlflow.utils.autologging_utils: MLflow autologging encountered a warning: \"c:\\Users\\colom\\OneDrive - ITESO\\iteso\\5to semestre\\cienciadatos\\PROYECTO_OSKU\\venv\\Lib\\site-packages\\mlflow\\types\\utils.py:407: UserWarning: Hint: Inferred schema contains integer column(s). Integer columns in Python cannot represent missing values. If your input data contains missing values at inference time, it will be encoded as floats and will cause a schema enforcement error. The best way to avoid this problem is to infer the model schema based on a realistic data sample (training dataset) that includes missing values. Alternatively, you can declare integer columns as doubles (float64) whenever these columns may have missing values. See `Handling Integers With Missing Values <https://www.mlflow.org/docs/latest/models.html#handling-integers-with-missing-values>`_ for more details.\"\n",
      "2024/11/07 16:44:16 WARNING mlflow.utils.autologging_utils: MLflow autologging encountered a warning: \"c:\\Users\\colom\\OneDrive - ITESO\\iteso\\5to semestre\\cienciadatos\\PROYECTO_OSKU\\venv\\Lib\\site-packages\\mlflow\\types\\utils.py:407: UserWarning: Hint: Inferred schema contains integer column(s). Integer columns in Python cannot represent missing values. If your input data contains missing values at inference time, it will be encoded as floats and will cause a schema enforcement error. The best way to avoid this problem is to infer the model schema based on a realistic data sample (training dataset) that includes missing values. Alternatively, you can declare integer columns as doubles (float64) whenever these columns may have missing values. See `Handling Integers With Missing Values <https://www.mlflow.org/docs/latest/models.html#handling-integers-with-missing-values>`_ for more details.\"\n",
      "2024/11/07 16:44:28 WARNING mlflow.utils.autologging_utils: MLflow autologging encountered a warning: \"c:\\Users\\colom\\OneDrive - ITESO\\iteso\\5to semestre\\cienciadatos\\PROYECTO_OSKU\\venv\\Lib\\site-packages\\mlflow\\types\\utils.py:407: UserWarning: Hint: Inferred schema contains integer column(s). Integer columns in Python cannot represent missing values. If your input data contains missing values at inference time, it will be encoded as floats and will cause a schema enforcement error. The best way to avoid this problem is to infer the model schema based on a realistic data sample (training dataset) that includes missing values. Alternatively, you can declare integer columns as doubles (float64) whenever these columns may have missing values. See `Handling Integers With Missing Values <https://www.mlflow.org/docs/latest/models.html#handling-integers-with-missing-values>`_ for more details.\"\n",
      "2024/11/07 16:44:29 INFO mlflow.tracking._tracking_service.client: 🏃 View run DecisionTreeClassifier at: https://dagshub.com/Parcex10/PROYECTO_OSKU.mlflow/#/experiments/0/runs/4470edee59a04f65bcd65d97a006108b.\n",
      "2024/11/07 16:44:29 INFO mlflow.tracking._tracking_service.client: 🧪 View experiment at: https://dagshub.com/Parcex10/PROYECTO_OSKU.mlflow/#/experiments/0.\n",
      "2024/11/07 16:44:29 WARNING mlflow.utils.autologging_utils: MLflow autologging encountered a warning: \"c:\\Users\\colom\\OneDrive - ITESO\\iteso\\5to semestre\\cienciadatos\\PROYECTO_OSKU\\venv\\Lib\\site-packages\\mlflow\\types\\utils.py:407: UserWarning: Hint: Inferred schema contains integer column(s). Integer columns in Python cannot represent missing values. If your input data contains missing values at inference time, it will be encoded as floats and will cause a schema enforcement error. The best way to avoid this problem is to infer the model schema based on a realistic data sample (training dataset) that includes missing values. Alternatively, you can declare integer columns as doubles (float64) whenever these columns may have missing values. See `Handling Integers With Missing Values <https://www.mlflow.org/docs/latest/models.html#handling-integers-with-missing-values>`_ for more details.\"\n",
      "2024/11/07 16:44:38 WARNING mlflow.utils.autologging_utils: MLflow autologging encountered a warning: \"c:\\Users\\colom\\OneDrive - ITESO\\iteso\\5to semestre\\cienciadatos\\PROYECTO_OSKU\\venv\\Lib\\site-packages\\mlflow\\types\\utils.py:407: UserWarning: Hint: Inferred schema contains integer column(s). Integer columns in Python cannot represent missing values. If your input data contains missing values at inference time, it will be encoded as floats and will cause a schema enforcement error. The best way to avoid this problem is to infer the model schema based on a realistic data sample (training dataset) that includes missing values. Alternatively, you can declare integer columns as doubles (float64) whenever these columns may have missing values. See `Handling Integers With Missing Values <https://www.mlflow.org/docs/latest/models.html#handling-integers-with-missing-values>`_ for more details.\"\n",
      "2024/11/07 16:45:02 WARNING mlflow.utils.autologging_utils: MLflow autologging encountered a warning: \"c:\\Users\\colom\\OneDrive - ITESO\\iteso\\5to semestre\\cienciadatos\\PROYECTO_OSKU\\venv\\Lib\\site-packages\\mlflow\\types\\utils.py:407: UserWarning: Hint: Inferred schema contains integer column(s). Integer columns in Python cannot represent missing values. If your input data contains missing values at inference time, it will be encoded as floats and will cause a schema enforcement error. The best way to avoid this problem is to infer the model schema based on a realistic data sample (training dataset) that includes missing values. Alternatively, you can declare integer columns as doubles (float64) whenever these columns may have missing values. See `Handling Integers With Missing Values <https://www.mlflow.org/docs/latest/models.html#handling-integers-with-missing-values>`_ for more details.\"\n",
      "2024/11/07 16:45:03 INFO mlflow.tracking._tracking_service.client: 🏃 View run RandomForestClassifier at: https://dagshub.com/Parcex10/PROYECTO_OSKU.mlflow/#/experiments/0/runs/eed6d489c9ea49b1aeca918079a642cb.\n",
      "2024/11/07 16:45:03 INFO mlflow.tracking._tracking_service.client: 🧪 View experiment at: https://dagshub.com/Parcex10/PROYECTO_OSKU.mlflow/#/experiments/0.\n",
      "2024/11/07 16:45:03 WARNING mlflow.utils.autologging_utils: MLflow autologging encountered a warning: \"c:\\Users\\colom\\OneDrive - ITESO\\iteso\\5to semestre\\cienciadatos\\PROYECTO_OSKU\\venv\\Lib\\site-packages\\mlflow\\types\\utils.py:407: UserWarning: Hint: Inferred schema contains integer column(s). Integer columns in Python cannot represent missing values. If your input data contains missing values at inference time, it will be encoded as floats and will cause a schema enforcement error. The best way to avoid this problem is to infer the model schema based on a realistic data sample (training dataset) that includes missing values. Alternatively, you can declare integer columns as doubles (float64) whenever these columns may have missing values. See `Handling Integers With Missing Values <https://www.mlflow.org/docs/latest/models.html#handling-integers-with-missing-values>`_ for more details.\"\n",
      "2024/11/07 16:46:07 WARNING mlflow.utils.autologging_utils: MLflow autologging encountered a warning: \"c:\\Users\\colom\\OneDrive - ITESO\\iteso\\5to semestre\\cienciadatos\\PROYECTO_OSKU\\venv\\Lib\\site-packages\\mlflow\\types\\utils.py:407: UserWarning: Hint: Inferred schema contains integer column(s). Integer columns in Python cannot represent missing values. If your input data contains missing values at inference time, it will be encoded as floats and will cause a schema enforcement error. The best way to avoid this problem is to infer the model schema based on a realistic data sample (training dataset) that includes missing values. Alternatively, you can declare integer columns as doubles (float64) whenever these columns may have missing values. See `Handling Integers With Missing Values <https://www.mlflow.org/docs/latest/models.html#handling-integers-with-missing-values>`_ for more details.\"\n",
      "2024/11/07 16:46:16 WARNING mlflow.utils.autologging_utils: MLflow autologging encountered a warning: \"c:\\Users\\colom\\OneDrive - ITESO\\iteso\\5to semestre\\cienciadatos\\PROYECTO_OSKU\\venv\\Lib\\site-packages\\mlflow\\types\\utils.py:407: UserWarning: Hint: Inferred schema contains integer column(s). Integer columns in Python cannot represent missing values. If your input data contains missing values at inference time, it will be encoded as floats and will cause a schema enforcement error. The best way to avoid this problem is to infer the model schema based on a realistic data sample (training dataset) that includes missing values. Alternatively, you can declare integer columns as doubles (float64) whenever these columns may have missing values. See `Handling Integers With Missing Values <https://www.mlflow.org/docs/latest/models.html#handling-integers-with-missing-values>`_ for more details.\"\n",
      "2024/11/07 16:46:17 INFO mlflow.tracking._tracking_service.client: 🏃 View run SVC at: https://dagshub.com/Parcex10/PROYECTO_OSKU.mlflow/#/experiments/0/runs/60ea172ba7584507a5e5b0e7a033f376.\n",
      "2024/11/07 16:46:17 INFO mlflow.tracking._tracking_service.client: 🧪 View experiment at: https://dagshub.com/Parcex10/PROYECTO_OSKU.mlflow/#/experiments/0.\n",
      "2024/11/07 16:46:18 INFO mlflow.tracking._tracking_service.client: 🏃 View run Nested Runs at: https://dagshub.com/Parcex10/PROYECTO_OSKU.mlflow/#/experiments/0/runs/d1356e0f86354846b024aa34d1eb0c45.\n",
      "2024/11/07 16:46:18 INFO mlflow.tracking._tracking_service.client: 🧪 View experiment at: https://dagshub.com/Parcex10/PROYECTO_OSKU.mlflow/#/experiments/0.\n"
     ]
    }
   ],
   "source": [
    "with mlflow.start_run(run_name=\"Nested Runs\"):\n",
    "    for model in models:\n",
    "        \n",
    "        model_class = model[\"model\"]\n",
    "        model_name = model_class.__name__\n",
    "        params = model[\"params\"]\n",
    "        \n",
    "        with mlflow.start_run(run_name=model_name,nested=True):\n",
    "            \n",
    "            ml_model = model_class(**params)\n",
    "           \n",
    "            ml_model.fit(X_train, y_train)\n",
    "    \n",
    "            y_pred = ml_model.predict(X_test)\n",
    "            \n",
    "            rmse = root_mean_squared_error(y_test, y_pred)\n",
    "            mlflow.log_metric(\"rmse\", rmse)\n",
    "\n",
    "            # Verifica y crea el directorio 'models' si no existe\n",
    "            os.makedirs(\"models\", exist_ok=True)\n",
    "            \n",
    "            # !mkdir models\n",
    "            with open(\"models/preprocessor.b\", \"wb\") as f_out:\n",
    "                pickle.dump(dv, f_out)\n",
    "                \n",
    "            mlflow.log_artifact(\"models/preprocessor.b\", artifact_path=\"preprocessor\")"
   ]
  },
  {
   "cell_type": "code",
   "execution_count": 16,
   "metadata": {},
   "outputs": [
    {
     "name": "stderr",
     "output_type": "stream",
     "text": [
      "Successfully registered model 'waze-model'.\n",
      "2024/11/07 16:46:19 INFO mlflow.store.model_registry.abstract_store: Waiting up to 300 seconds for model version to finish creation. Model name: waze-model, version 1\n",
      "Created version '1' of model 'waze-model'.\n"
     ]
    }
   ],
   "source": [
    "run_ = mlflow.search_runs(order_by=['metrics.rmse ASC'],\n",
    "                          output_format=\"list\",\n",
    "                          experiment_names=[\"model_experiment\"]\n",
    "                          )[0]\n",
    "\n",
    "run_id = run_.info.run_id\n",
    "run_uri = f\"runs:/{run_id}/model\"\n",
    "\n",
    "result = mlflow.register_model(\n",
    "    model_uri=run_uri,\n",
    "    name=\"waze-model\"\n",
    ")"
   ]
  },
  {
   "cell_type": "code",
   "execution_count": null,
   "metadata": {},
   "outputs": [],
   "source": []
  }
 ],
 "metadata": {
  "kernelspec": {
   "display_name": "venv",
   "language": "python",
   "name": "python3"
  },
  "language_info": {
   "codemirror_mode": {
    "name": "ipython",
    "version": 3
   },
   "file_extension": ".py",
   "mimetype": "text/x-python",
   "name": "python",
   "nbconvert_exporter": "python",
   "pygments_lexer": "ipython3",
   "version": "3.11.8"
  }
 },
 "nbformat": 4,
 "nbformat_minor": 2
}
