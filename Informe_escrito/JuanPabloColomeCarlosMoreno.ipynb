{
 "cells": [
  {
   "cell_type": "markdown",
   "metadata": {},
   "source": [
    "# PROYECTO\n",
    "\n",
    "\n",
    "#### Juan Pablo Colomé 746432\n",
    "#### Carlos Moreno"
   ]
  },
  {
   "cell_type": "markdown",
   "metadata": {},
   "source": [
    "### INTRODUCCIÓN\n",
    "\n",
    "Este proyecto trata sobre "
   ]
  },
  {
   "cell_type": "markdown",
   "metadata": {},
   "source": [
    "### ANTECEDENTES"
   ]
  },
  {
   "cell_type": "markdown",
   "metadata": {},
   "source": [
    "### OBJETIVOS\n",
    "- Hacer un buen modelo predictor.\n",
    "- Hacer un deployment usando APIs \n",
    "- Ponerle un uso interactivo al modelo"
   ]
  },
  {
   "cell_type": "markdown",
   "metadata": {},
   "source": [
    "### PLANTEAMIENTO DEL PROBLEMA\n",
    "- Los datos son de Waze, la aplicación de mapas para calcular desplazamientos de un punto A a un punto B. El problema es que existen muchas otras Apps de mapas, entonces los usuario a veces dejan de usar Waze para usar otras aplicaciones. Es importante ver los datos para encontrar que es lo que hace que un usuario se vaya de Waze o se quede usandola."
   ]
  }
 ],
 "metadata": {
  "language_info": {
   "name": "python"
  }
 },
 "nbformat": 4,
 "nbformat_minor": 2
}
